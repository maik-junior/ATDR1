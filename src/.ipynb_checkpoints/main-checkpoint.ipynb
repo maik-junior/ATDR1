{
 "cells": [
  {
   "cell_type": "markdown",
   "metadata": {},
   "source": [
    "<p style=\"text-align: center; font-size: 30px; color: navy; font-weight: bold;\">\n",
    "    Assessment - Desenvolvimento Front-End com Python <br>\n",
    "    Maik Júnior dos Santos\n",
    "</p>"
   ]
  },
  {
   "cell_type": "markdown",
   "metadata": {},
   "source": [
    "## 1. Preparar o Ambiente de Desenvolvimento"
   ]
  },
  {
   "cell_type": "markdown",
   "metadata": {},
   "source": [
    "1. Crie um ambiente virtual para seu projeto utilizando uma ferramenta como **`venv`**, **`virtualenv`** ou **`pipenv`**.\n",
    "2. Instale as bibliotecas necessárias (Streamlit, statsbombpy, mplsoccer, matplotlib, entre outras)."
   ]
  },
  {
   "cell_type": "code",
   "execution_count": null,
   "metadata": {},
   "outputs": [],
   "source": [
    "#==> Criando ambiente virtual"
   ]
  },
  {
   "cell_type": "code",
   "execution_count": 1,
   "metadata": {},
   "outputs": [
    {
     "name": "stdout",
     "output_type": "stream",
     "text": [
      ".\n",
      "..\n",
      ".git\n",
      ".gitignore\n",
      ".ipynb_checkpoints\n",
      ".venv\n",
      "README.md\n",
      "config\n",
      "environment.yml\n",
      "file\n",
      "python_version.txt\n",
      "requirements.txt\n",
      "src\n"
     ]
    }
   ],
   "source": [
    "%%bash\n",
    "cd ..\n",
    "# export CONDA_ENVS_PATH=$(pwd)\n",
    "# python3 -m venv .venv\n",
    "ls -a"
   ]
  },
  {
   "cell_type": "markdown",
   "metadata": {},
   "source": [
    "## 2. Estruturar o Projeto"
   ]
  },
  {
   "cell_type": "markdown",
   "metadata": {},
   "source": [
    "1. Crie um repositório no GitHub para hospedar o código do seu projeto.\n",
    "2. Garanta que o repositório contenha um arquivo **`requirements.txt`** com as dependências necessárias para rodar o projeto.\n",
    "3. Organize o código de forma clara, criando funções separadas para:\n",
    "   - Carregar os dados.\n",
    "   - Gerar as visualizações.\n",
    "   - Construir a interface do dashboard."
   ]
  },
  {
   "cell_type": "code",
   "execution_count": 2,
   "metadata": {},
   "outputs": [
    {
     "name": "stdout",
     "output_type": "stream",
     "text": [
      "\u001b[01;34m.\u001b[0m\n",
      "├── \u001b[01;34m.git\u001b[0m\n",
      "│   ├── COMMIT_EDITMSG\n",
      "│   ├── FETCH_HEAD\n",
      "│   ├── HEAD\n",
      "│   ├── ORIG_HEAD\n",
      "│   ├── \u001b[01;34mbranches\u001b[0m\n",
      "│   ├── config\n",
      "│   ├── description\n",
      "│   ├── \u001b[01;34mhooks\u001b[0m\n",
      "│   ├── index\n",
      "│   ├── \u001b[01;34minfo\u001b[0m\n",
      "│   ├── \u001b[01;34mlogs\u001b[0m\n",
      "│   ├── \u001b[01;34mobjects\u001b[0m\n",
      "│   └── \u001b[01;34mrefs\u001b[0m\n",
      "├── .gitignore\n",
      "├── \u001b[01;34m.ipynb_checkpoints\u001b[0m\n",
      "│   ├── environment-checkpoint.yml\n",
      "│   ├── python_version-checkpoint.txt\n",
      "│   └── requirements-checkpoint.txt\n",
      "├── \u001b[01;34m.venv\u001b[0m\n",
      "│   ├── \u001b[01;34mbin\u001b[0m\n",
      "│   ├── \u001b[01;34metc\u001b[0m\n",
      "│   ├── \u001b[01;34minclude\u001b[0m\n",
      "│   ├── \u001b[01;34mlib\u001b[0m\n",
      "│   ├── \u001b[01;36mlib64\u001b[0m -> \u001b[01;34mlib\u001b[0m\n",
      "│   ├── pyvenv.cfg\n",
      "│   └── \u001b[01;34mshare\u001b[0m\n",
      "├── README.md\n",
      "├── \u001b[01;34mconfig\u001b[0m\n",
      "├── environment.yml\n",
      "├── \u001b[01;34mfile\u001b[0m\n",
      "├── python_version.txt\n",
      "├── requirements.txt\n",
      "└── \u001b[01;34msrc\u001b[0m\n",
      "    ├── \u001b[01;34m.ipynb_checkpoints\u001b[0m\n",
      "    ├── \u001b[01;34mdataprocessing\u001b[0m\n",
      "    ├── main.ipynb\n",
      "    ├── main.py\n",
      "    ├── \u001b[01;34mmodels\u001b[0m\n",
      "    ├── \u001b[01;34mservices\u001b[0m\n",
      "    ├── \u001b[01;34mutils\u001b[0m\n",
      "    └── \u001b[01;34mvisualization\u001b[0m\n",
      "\n",
      "24 directories, 18 files\n"
     ]
    }
   ],
   "source": [
    "%%bash\n",
    "cd ..\n",
    "tree -a -L 2"
   ]
  },
  {
   "cell_type": "markdown",
   "metadata": {},
   "source": [
    "## 3. Definir a Estrutura do Dashboard"
   ]
  },
  {
   "cell_type": "markdown",
   "metadata": {},
   "source": [
    "1. Desenvolva uma interface interativa em Streamlit que permita ao usuário selecionar:\n",
    "   - Um campeonato específico.\n",
    "   - Uma temporada (ano).\n",
    "   - Uma partida ou jogador para análise.\n",
    "2. Organize o layout do dashboard em colunas, utilizando **`columns`**, **`sidebars`**, **`containers`** e **`tabs`** para melhorar a usabilidade."
   ]
  },
  {
   "cell_type": "code",
   "execution_count": null,
   "metadata": {},
   "outputs": [],
   "source": [
    "import streamlit as st\n",
    "from statsbombpy import sb\n",
    "import pandas as pd\n",
    "import time\n",
    "\n",
    "def main():\n",
    "    # Título da aplicação\n",
    "    st.title(\"Fut Mundo\")\n",
    "        \n",
    "    col1, col2, col3 = st.columns(3)\n",
    "    \n",
    "    with col1:\n",
    "        competitions = sb.competitions()\n",
    "        competitions_names = competitions[\"competition_name\"].unique() \n",
    "        competition = st.selectbox('Selecione a competicao', competitions_names)                                  \n",
    "        competition_id = competitions[competitions[\"competition_name\"] == competition][\"competition_id\"].values[0]\n",
    "        \n",
    "    with col2:\n",
    "        seasons = competitions[competitions[\"competition_name\"] == competition][\"season_name\"].unique()           \n",
    "        season_name = st.selectbox('Selecione a temporada', seasons)                                      \n",
    "        season_id = competitions[competitions[\"season_name\"] == season_name][\"season_id\"].values[0]\n",
    "               \n",
    "    with col3:\n",
    "        def get_match_label(matches, match_id):\n",
    "            row = matches[matches[\"match_id\"] == match_id].iloc[0]\n",
    "            return f\"{row['match_date']} - {row['home_team']} vs {row['away_team']}\"\n",
    "    \n",
    "        matches = sb.matches(competition_id = competition_id, season_id = season_id) #Recuperando jogos\n",
    "        st.selectbox('Selecione o jogo', matches[\"match_id\"], format_func=lambda idx: get_match_label(matches, idx)) # Selecionando partida\n",
    "\n",
    "\n",
    "\n",
    "if __name__ == \"__main__\":\n",
    "    main()"
   ]
  },
  {
   "cell_type": "markdown",
   "metadata": {},
   "source": [
    "## 4. Obter Dados e Exibir Informações Básicas"
   ]
  },
  {
   "cell_type": "markdown",
   "metadata": {},
   "source": [
    "1. Use a biblioteca StatsBombPy para carregar dados de competições, temporadas, partidas e jogadores.\n",
    "2. Mostre, em uma página do dashboard, as seguintes informações:\n",
    "   - Nome da competição, temporada e partida selecionada.\n",
    "   - Estatísticas básicas da partida (gols, chutes, passes, etc.).\n",
    "   - Um DataFrame exibindo os eventos da partida, como passes, finalizações e desarmes."
   ]
  },
  {
   "cell_type": "code",
   "execution_count": 14,
   "metadata": {},
   "outputs": [],
   "source": [
    "from statsbombpy import sb\n",
    "import pandas as pd"
   ]
  },
  {
   "cell_type": "code",
   "execution_count": 15,
   "metadata": {},
   "outputs": [],
   "source": [
    "# %%bash\n",
    "# pip install mplsoccer\n",
    "# pip install statsbombpy"
   ]
  },
  {
   "cell_type": "code",
   "execution_count": 61,
   "metadata": {},
   "outputs": [
    {
     "name": "stderr",
     "output_type": "stream",
     "text": [
      "/home/maik/_repos/ATDR1/.venv/lib/python3.12/site-packages/statsbombpy/api_client.py:21: NoAuthWarning: credentials were not supplied. open data access only\n",
      "  warnings.warn(\n"
     ]
    },
    {
     "ename": "ValueError",
     "evalue": "If using all scalar values, you must pass an index",
     "output_type": "error",
     "traceback": [
      "\u001b[0;31m---------------------------------------------------------------------------\u001b[0m",
      "\u001b[0;31mValueError\u001b[0m                                Traceback (most recent call last)",
      "Cell \u001b[0;32mIn[61], line 3\u001b[0m\n\u001b[1;32m      1\u001b[0m competicoes \u001b[38;5;241m=\u001b[39m pd\u001b[38;5;241m.\u001b[39mDataFrame(sb\u001b[38;5;241m.\u001b[39mcompetitions())\n\u001b[1;32m      2\u001b[0m partidas \u001b[38;5;241m=\u001b[39m pd\u001b[38;5;241m.\u001b[39mDataFrame(sb\u001b[38;5;241m.\u001b[39mmatches(competition_id\u001b[38;5;241m=\u001b[39m\u001b[38;5;241m16\u001b[39m, season_id\u001b[38;5;241m=\u001b[39m\u001b[38;5;241m4\u001b[39m))\n\u001b[0;32m----> 3\u001b[0m escalacao \u001b[38;5;241m=\u001b[39m \u001b[43mpd\u001b[49m\u001b[38;5;241;43m.\u001b[39;49m\u001b[43mDataFrame\u001b[49m\u001b[43m(\u001b[49m\u001b[43msb\u001b[49m\u001b[38;5;241;43m.\u001b[39;49m\u001b[43mlineups\u001b[49m\u001b[43m(\u001b[49m\u001b[43mmatch_id\u001b[49m\u001b[38;5;241;43m=\u001b[39;49m\u001b[38;5;241;43m22912\u001b[39;49m\u001b[43m)\u001b[49m\u001b[43m)\u001b[49m\n",
      "File \u001b[0;32m~/_repos/ATDR1/.venv/lib/python3.12/site-packages/pandas/core/frame.py:778\u001b[0m, in \u001b[0;36mDataFrame.__init__\u001b[0;34m(self, data, index, columns, dtype, copy)\u001b[0m\n\u001b[1;32m    772\u001b[0m     mgr \u001b[38;5;241m=\u001b[39m \u001b[38;5;28mself\u001b[39m\u001b[38;5;241m.\u001b[39m_init_mgr(\n\u001b[1;32m    773\u001b[0m         data, axes\u001b[38;5;241m=\u001b[39m{\u001b[38;5;124m\"\u001b[39m\u001b[38;5;124mindex\u001b[39m\u001b[38;5;124m\"\u001b[39m: index, \u001b[38;5;124m\"\u001b[39m\u001b[38;5;124mcolumns\u001b[39m\u001b[38;5;124m\"\u001b[39m: columns}, dtype\u001b[38;5;241m=\u001b[39mdtype, copy\u001b[38;5;241m=\u001b[39mcopy\n\u001b[1;32m    774\u001b[0m     )\n\u001b[1;32m    776\u001b[0m \u001b[38;5;28;01melif\u001b[39;00m \u001b[38;5;28misinstance\u001b[39m(data, \u001b[38;5;28mdict\u001b[39m):\n\u001b[1;32m    777\u001b[0m     \u001b[38;5;66;03m# GH#38939 de facto copy defaults to False only in non-dict cases\u001b[39;00m\n\u001b[0;32m--> 778\u001b[0m     mgr \u001b[38;5;241m=\u001b[39m \u001b[43mdict_to_mgr\u001b[49m\u001b[43m(\u001b[49m\u001b[43mdata\u001b[49m\u001b[43m,\u001b[49m\u001b[43m \u001b[49m\u001b[43mindex\u001b[49m\u001b[43m,\u001b[49m\u001b[43m \u001b[49m\u001b[43mcolumns\u001b[49m\u001b[43m,\u001b[49m\u001b[43m \u001b[49m\u001b[43mdtype\u001b[49m\u001b[38;5;241;43m=\u001b[39;49m\u001b[43mdtype\u001b[49m\u001b[43m,\u001b[49m\u001b[43m \u001b[49m\u001b[43mcopy\u001b[49m\u001b[38;5;241;43m=\u001b[39;49m\u001b[43mcopy\u001b[49m\u001b[43m,\u001b[49m\u001b[43m \u001b[49m\u001b[43mtyp\u001b[49m\u001b[38;5;241;43m=\u001b[39;49m\u001b[43mmanager\u001b[49m\u001b[43m)\u001b[49m\n\u001b[1;32m    779\u001b[0m \u001b[38;5;28;01melif\u001b[39;00m \u001b[38;5;28misinstance\u001b[39m(data, ma\u001b[38;5;241m.\u001b[39mMaskedArray):\n\u001b[1;32m    780\u001b[0m     \u001b[38;5;28;01mfrom\u001b[39;00m \u001b[38;5;21;01mnumpy\u001b[39;00m\u001b[38;5;21;01m.\u001b[39;00m\u001b[38;5;21;01mma\u001b[39;00m \u001b[38;5;28;01mimport\u001b[39;00m mrecords\n",
      "File \u001b[0;32m~/_repos/ATDR1/.venv/lib/python3.12/site-packages/pandas/core/internals/construction.py:503\u001b[0m, in \u001b[0;36mdict_to_mgr\u001b[0;34m(data, index, columns, dtype, typ, copy)\u001b[0m\n\u001b[1;32m    499\u001b[0m     \u001b[38;5;28;01melse\u001b[39;00m:\n\u001b[1;32m    500\u001b[0m         \u001b[38;5;66;03m# dtype check to exclude e.g. range objects, scalars\u001b[39;00m\n\u001b[1;32m    501\u001b[0m         arrays \u001b[38;5;241m=\u001b[39m [x\u001b[38;5;241m.\u001b[39mcopy() \u001b[38;5;28;01mif\u001b[39;00m \u001b[38;5;28mhasattr\u001b[39m(x, \u001b[38;5;124m\"\u001b[39m\u001b[38;5;124mdtype\u001b[39m\u001b[38;5;124m\"\u001b[39m) \u001b[38;5;28;01melse\u001b[39;00m x \u001b[38;5;28;01mfor\u001b[39;00m x \u001b[38;5;129;01min\u001b[39;00m arrays]\n\u001b[0;32m--> 503\u001b[0m \u001b[38;5;28;01mreturn\u001b[39;00m \u001b[43marrays_to_mgr\u001b[49m\u001b[43m(\u001b[49m\u001b[43marrays\u001b[49m\u001b[43m,\u001b[49m\u001b[43m \u001b[49m\u001b[43mcolumns\u001b[49m\u001b[43m,\u001b[49m\u001b[43m \u001b[49m\u001b[43mindex\u001b[49m\u001b[43m,\u001b[49m\u001b[43m \u001b[49m\u001b[43mdtype\u001b[49m\u001b[38;5;241;43m=\u001b[39;49m\u001b[43mdtype\u001b[49m\u001b[43m,\u001b[49m\u001b[43m \u001b[49m\u001b[43mtyp\u001b[49m\u001b[38;5;241;43m=\u001b[39;49m\u001b[43mtyp\u001b[49m\u001b[43m,\u001b[49m\u001b[43m \u001b[49m\u001b[43mconsolidate\u001b[49m\u001b[38;5;241;43m=\u001b[39;49m\u001b[43mcopy\u001b[49m\u001b[43m)\u001b[49m\n",
      "File \u001b[0;32m~/_repos/ATDR1/.venv/lib/python3.12/site-packages/pandas/core/internals/construction.py:114\u001b[0m, in \u001b[0;36marrays_to_mgr\u001b[0;34m(arrays, columns, index, dtype, verify_integrity, typ, consolidate)\u001b[0m\n\u001b[1;32m    111\u001b[0m \u001b[38;5;28;01mif\u001b[39;00m verify_integrity:\n\u001b[1;32m    112\u001b[0m     \u001b[38;5;66;03m# figure out the index, if necessary\u001b[39;00m\n\u001b[1;32m    113\u001b[0m     \u001b[38;5;28;01mif\u001b[39;00m index \u001b[38;5;129;01mis\u001b[39;00m \u001b[38;5;28;01mNone\u001b[39;00m:\n\u001b[0;32m--> 114\u001b[0m         index \u001b[38;5;241m=\u001b[39m \u001b[43m_extract_index\u001b[49m\u001b[43m(\u001b[49m\u001b[43marrays\u001b[49m\u001b[43m)\u001b[49m\n\u001b[1;32m    115\u001b[0m     \u001b[38;5;28;01melse\u001b[39;00m:\n\u001b[1;32m    116\u001b[0m         index \u001b[38;5;241m=\u001b[39m ensure_index(index)\n",
      "File \u001b[0;32m~/_repos/ATDR1/.venv/lib/python3.12/site-packages/pandas/core/internals/construction.py:667\u001b[0m, in \u001b[0;36m_extract_index\u001b[0;34m(data)\u001b[0m\n\u001b[1;32m    664\u001b[0m         \u001b[38;5;28;01mraise\u001b[39;00m \u001b[38;5;167;01mValueError\u001b[39;00m(\u001b[38;5;124m\"\u001b[39m\u001b[38;5;124mPer-column arrays must each be 1-dimensional\u001b[39m\u001b[38;5;124m\"\u001b[39m)\n\u001b[1;32m    666\u001b[0m \u001b[38;5;28;01mif\u001b[39;00m \u001b[38;5;129;01mnot\u001b[39;00m indexes \u001b[38;5;129;01mand\u001b[39;00m \u001b[38;5;129;01mnot\u001b[39;00m raw_lengths:\n\u001b[0;32m--> 667\u001b[0m     \u001b[38;5;28;01mraise\u001b[39;00m \u001b[38;5;167;01mValueError\u001b[39;00m(\u001b[38;5;124m\"\u001b[39m\u001b[38;5;124mIf using all scalar values, you must pass an index\u001b[39m\u001b[38;5;124m\"\u001b[39m)\n\u001b[1;32m    669\u001b[0m \u001b[38;5;28;01mif\u001b[39;00m have_series:\n\u001b[1;32m    670\u001b[0m     index \u001b[38;5;241m=\u001b[39m union_indexes(indexes)\n",
      "\u001b[0;31mValueError\u001b[0m: If using all scalar values, you must pass an index"
     ]
    }
   ],
   "source": [
    "competicoes = pd.DataFrame(sb.competitions())\n",
    "partidas = pd.DataFrame(sb.matches(competition_id=16, season_id=4))\n",
    "escalacao = pd.DataFrame(sb.lineups(match_id=22912))"
   ]
  },
  {
   "cell_type": "code",
   "execution_count": 58,
   "metadata": {},
   "outputs": [
    {
     "data": {
      "text/html": [
       "<div>\n",
       "<style scoped>\n",
       "    .dataframe tbody tr th:only-of-type {\n",
       "        vertical-align: middle;\n",
       "    }\n",
       "\n",
       "    .dataframe tbody tr th {\n",
       "        vertical-align: top;\n",
       "    }\n",
       "\n",
       "    .dataframe thead th {\n",
       "        text-align: right;\n",
       "    }\n",
       "</style>\n",
       "<table border=\"1\" class=\"dataframe\">\n",
       "  <thead>\n",
       "    <tr style=\"text-align: right;\">\n",
       "      <th></th>\n",
       "      <th>competition_id</th>\n",
       "      <th>season_id</th>\n",
       "      <th>country_name</th>\n",
       "      <th>competition_name</th>\n",
       "      <th>competition_gender</th>\n",
       "      <th>competition_youth</th>\n",
       "      <th>competition_international</th>\n",
       "      <th>season_name</th>\n",
       "      <th>match_updated</th>\n",
       "      <th>match_updated_360</th>\n",
       "      <th>match_available_360</th>\n",
       "      <th>match_available</th>\n",
       "    </tr>\n",
       "  </thead>\n",
       "  <tbody>\n",
       "    <tr>\n",
       "      <th>0</th>\n",
       "      <td>9</td>\n",
       "      <td>281</td>\n",
       "      <td>Germany</td>\n",
       "      <td>1. Bundesliga</td>\n",
       "      <td>male</td>\n",
       "      <td>False</td>\n",
       "      <td>False</td>\n",
       "      <td>2023/2024</td>\n",
       "      <td>2024-07-15T14:15:54.671676</td>\n",
       "      <td>2024-07-15T14:17:00.877356</td>\n",
       "      <td>2024-07-15T14:17:00.877356</td>\n",
       "      <td>2024-07-15T14:15:54.671676</td>\n",
       "    </tr>\n",
       "    <tr>\n",
       "      <th>1</th>\n",
       "      <td>9</td>\n",
       "      <td>27</td>\n",
       "      <td>Germany</td>\n",
       "      <td>1. Bundesliga</td>\n",
       "      <td>male</td>\n",
       "      <td>False</td>\n",
       "      <td>False</td>\n",
       "      <td>2015/2016</td>\n",
       "      <td>2024-05-19T11:11:14.192381</td>\n",
       "      <td>None</td>\n",
       "      <td>None</td>\n",
       "      <td>2024-05-19T11:11:14.192381</td>\n",
       "    </tr>\n",
       "    <tr>\n",
       "      <th>2</th>\n",
       "      <td>1267</td>\n",
       "      <td>107</td>\n",
       "      <td>Africa</td>\n",
       "      <td>African Cup of Nations</td>\n",
       "      <td>male</td>\n",
       "      <td>False</td>\n",
       "      <td>True</td>\n",
       "      <td>2023</td>\n",
       "      <td>2024-06-13T07:51:02.452825</td>\n",
       "      <td>None</td>\n",
       "      <td>None</td>\n",
       "      <td>2024-06-13T07:51:02.452825</td>\n",
       "    </tr>\n",
       "  </tbody>\n",
       "</table>\n",
       "</div>"
      ],
      "text/plain": [
       "   competition_id  season_id country_name        competition_name  \\\n",
       "0               9        281      Germany           1. Bundesliga   \n",
       "1               9         27      Germany           1. Bundesliga   \n",
       "2            1267        107       Africa  African Cup of Nations   \n",
       "\n",
       "  competition_gender  competition_youth  competition_international  \\\n",
       "0               male              False                      False   \n",
       "1               male              False                      False   \n",
       "2               male              False                       True   \n",
       "\n",
       "  season_name               match_updated           match_updated_360  \\\n",
       "0   2023/2024  2024-07-15T14:15:54.671676  2024-07-15T14:17:00.877356   \n",
       "1   2015/2016  2024-05-19T11:11:14.192381                        None   \n",
       "2        2023  2024-06-13T07:51:02.452825                        None   \n",
       "\n",
       "          match_available_360             match_available  \n",
       "0  2024-07-15T14:17:00.877356  2024-07-15T14:15:54.671676  \n",
       "1                        None  2024-05-19T11:11:14.192381  \n",
       "2                        None  2024-06-13T07:51:02.452825  "
      ]
     },
     "execution_count": 58,
     "metadata": {},
     "output_type": "execute_result"
    }
   ],
   "source": [
    "competicoes.head(3)"
   ]
  },
  {
   "cell_type": "markdown",
   "metadata": {},
   "source": [
    "|**Dicionario de dados: Competicoes**||\n",
    "|--------------------------|-------------------------------------------------------------------------------------------|\n",
    "| **Coluna** | **Descrição** |\n",
    "| competition_id            | Identificador único da competição.                                                        |\n",
    "| season_id                 | Identificador único da temporada.                                                         |\n",
    "| country_name              | Nome do país onde a competição ocorre.                                                    |\n",
    "| competition_name          | Nome da competição (ex: Premier League, La Liga).                                          |\n",
    "| competition_gender        | Gênero da competição (ex: masculino, feminino).                                            |\n",
    "| competition_youth         | Indica se é uma competição de jovens (True/False).                                         |\n",
    "| competition_international | Indica se a competição é internacional (True/False).                                       |\n",
    "| season_name               | Nome da temporada (ex: 2023/2024).                                                        |\n",
    "| match_updated             | Data e hora da última atualização dos dados da partida.                                   |\n",
    "| match_updated_360         | Data e hora da última atualização dos dados da partida no formato 360 (vista de ângulos diferentes). |\n",
    "| match_available_360       | Indica se os dados da partida no formato 360 estão disponíveis (True/False).              |\n",
    "| match_available           | Indica se os dados da partida estão disponíveis (True/False).                             |\n"
   ]
  },
  {
   "cell_type": "code",
   "execution_count": 70,
   "metadata": {},
   "outputs": [
    {
     "data": {
      "text/html": [
       "<div>\n",
       "<style scoped>\n",
       "    .dataframe tbody tr th:only-of-type {\n",
       "        vertical-align: middle;\n",
       "    }\n",
       "\n",
       "    .dataframe tbody tr th {\n",
       "        vertical-align: top;\n",
       "    }\n",
       "\n",
       "    .dataframe thead th {\n",
       "        text-align: right;\n",
       "    }\n",
       "</style>\n",
       "<table border=\"1\" class=\"dataframe\">\n",
       "  <thead>\n",
       "    <tr style=\"text-align: right;\">\n",
       "      <th></th>\n",
       "      <th>competition_id</th>\n",
       "      <th>season_id</th>\n",
       "      <th>country_name</th>\n",
       "      <th>competition_name</th>\n",
       "      <th>competition_gender</th>\n",
       "      <th>competition_youth</th>\n",
       "      <th>competition_international</th>\n",
       "      <th>season_name</th>\n",
       "      <th>match_updated</th>\n",
       "      <th>match_updated_360</th>\n",
       "      <th>match_available_360</th>\n",
       "      <th>match_available</th>\n",
       "    </tr>\n",
       "  </thead>\n",
       "  <tbody>\n",
       "    <tr>\n",
       "      <th>3</th>\n",
       "      <td>16</td>\n",
       "      <td>4</td>\n",
       "      <td>Europe</td>\n",
       "      <td>Champions League</td>\n",
       "      <td>male</td>\n",
       "      <td>False</td>\n",
       "      <td>False</td>\n",
       "      <td>2018/2019</td>\n",
       "      <td>2024-06-12T07:44:38.559714</td>\n",
       "      <td>2021-06-13T16:17:31.694</td>\n",
       "      <td>None</td>\n",
       "      <td>2024-06-12T07:44:38.559714</td>\n",
       "    </tr>\n",
       "    <tr>\n",
       "      <th>4</th>\n",
       "      <td>16</td>\n",
       "      <td>1</td>\n",
       "      <td>Europe</td>\n",
       "      <td>Champions League</td>\n",
       "      <td>male</td>\n",
       "      <td>False</td>\n",
       "      <td>False</td>\n",
       "      <td>2017/2018</td>\n",
       "      <td>2024-02-13T02:35:28.134882</td>\n",
       "      <td>2021-06-13T16:17:31.694</td>\n",
       "      <td>None</td>\n",
       "      <td>2024-02-13T02:35:28.134882</td>\n",
       "    </tr>\n",
       "    <tr>\n",
       "      <th>5</th>\n",
       "      <td>16</td>\n",
       "      <td>2</td>\n",
       "      <td>Europe</td>\n",
       "      <td>Champions League</td>\n",
       "      <td>male</td>\n",
       "      <td>False</td>\n",
       "      <td>False</td>\n",
       "      <td>2016/2017</td>\n",
       "      <td>2024-02-13T02:37:32.205154</td>\n",
       "      <td>2021-06-13T16:17:31.694</td>\n",
       "      <td>None</td>\n",
       "      <td>2024-02-13T02:37:32.205154</td>\n",
       "    </tr>\n",
       "    <tr>\n",
       "      <th>6</th>\n",
       "      <td>16</td>\n",
       "      <td>27</td>\n",
       "      <td>Europe</td>\n",
       "      <td>Champions League</td>\n",
       "      <td>male</td>\n",
       "      <td>False</td>\n",
       "      <td>False</td>\n",
       "      <td>2015/2016</td>\n",
       "      <td>2024-06-12T07:45:38.786894</td>\n",
       "      <td>2021-06-13T16:17:31.694</td>\n",
       "      <td>None</td>\n",
       "      <td>2024-06-12T07:45:38.786894</td>\n",
       "    </tr>\n",
       "    <tr>\n",
       "      <th>7</th>\n",
       "      <td>16</td>\n",
       "      <td>26</td>\n",
       "      <td>Europe</td>\n",
       "      <td>Champions League</td>\n",
       "      <td>male</td>\n",
       "      <td>False</td>\n",
       "      <td>False</td>\n",
       "      <td>2014/2015</td>\n",
       "      <td>2024-02-12T12:49:54.914228</td>\n",
       "      <td>2021-06-13T16:17:31.694</td>\n",
       "      <td>None</td>\n",
       "      <td>2024-02-12T12:49:54.914228</td>\n",
       "    </tr>\n",
       "    <tr>\n",
       "      <th>8</th>\n",
       "      <td>16</td>\n",
       "      <td>25</td>\n",
       "      <td>Europe</td>\n",
       "      <td>Champions League</td>\n",
       "      <td>male</td>\n",
       "      <td>False</td>\n",
       "      <td>False</td>\n",
       "      <td>2013/2014</td>\n",
       "      <td>2024-02-12T12:48:48.479157</td>\n",
       "      <td>2021-06-13T16:17:31.694</td>\n",
       "      <td>None</td>\n",
       "      <td>2024-02-12T12:48:48.479157</td>\n",
       "    </tr>\n",
       "    <tr>\n",
       "      <th>9</th>\n",
       "      <td>16</td>\n",
       "      <td>24</td>\n",
       "      <td>Europe</td>\n",
       "      <td>Champions League</td>\n",
       "      <td>male</td>\n",
       "      <td>False</td>\n",
       "      <td>False</td>\n",
       "      <td>2012/2013</td>\n",
       "      <td>2024-02-12T12:47:34.340413</td>\n",
       "      <td>2021-06-13T16:17:31.694</td>\n",
       "      <td>None</td>\n",
       "      <td>2024-02-12T12:47:34.340413</td>\n",
       "    </tr>\n",
       "    <tr>\n",
       "      <th>10</th>\n",
       "      <td>16</td>\n",
       "      <td>23</td>\n",
       "      <td>Europe</td>\n",
       "      <td>Champions League</td>\n",
       "      <td>male</td>\n",
       "      <td>False</td>\n",
       "      <td>False</td>\n",
       "      <td>2011/2012</td>\n",
       "      <td>2024-02-13T02:36:35.698340</td>\n",
       "      <td>2021-06-13T16:17:31.694</td>\n",
       "      <td>None</td>\n",
       "      <td>2024-02-13T02:36:35.698340</td>\n",
       "    </tr>\n",
       "    <tr>\n",
       "      <th>11</th>\n",
       "      <td>16</td>\n",
       "      <td>22</td>\n",
       "      <td>Europe</td>\n",
       "      <td>Champions League</td>\n",
       "      <td>male</td>\n",
       "      <td>False</td>\n",
       "      <td>False</td>\n",
       "      <td>2010/2011</td>\n",
       "      <td>2024-02-12T12:53:03.944320</td>\n",
       "      <td>2021-06-13T16:17:31.694</td>\n",
       "      <td>None</td>\n",
       "      <td>2024-02-12T12:53:03.944320</td>\n",
       "    </tr>\n",
       "    <tr>\n",
       "      <th>12</th>\n",
       "      <td>16</td>\n",
       "      <td>21</td>\n",
       "      <td>Europe</td>\n",
       "      <td>Champions League</td>\n",
       "      <td>male</td>\n",
       "      <td>False</td>\n",
       "      <td>False</td>\n",
       "      <td>2009/2010</td>\n",
       "      <td>2024-02-12T12:49:25.017694</td>\n",
       "      <td>2021-06-13T16:17:31.694</td>\n",
       "      <td>None</td>\n",
       "      <td>2024-02-12T12:49:25.017694</td>\n",
       "    </tr>\n",
       "    <tr>\n",
       "      <th>13</th>\n",
       "      <td>16</td>\n",
       "      <td>41</td>\n",
       "      <td>Europe</td>\n",
       "      <td>Champions League</td>\n",
       "      <td>male</td>\n",
       "      <td>False</td>\n",
       "      <td>False</td>\n",
       "      <td>2008/2009</td>\n",
       "      <td>2024-02-13T07:02:54.657056</td>\n",
       "      <td>2021-06-13T16:17:31.694</td>\n",
       "      <td>None</td>\n",
       "      <td>2024-02-13T07:02:54.657056</td>\n",
       "    </tr>\n",
       "    <tr>\n",
       "      <th>14</th>\n",
       "      <td>16</td>\n",
       "      <td>39</td>\n",
       "      <td>Europe</td>\n",
       "      <td>Champions League</td>\n",
       "      <td>male</td>\n",
       "      <td>False</td>\n",
       "      <td>False</td>\n",
       "      <td>2006/2007</td>\n",
       "      <td>2024-02-12T13:48:23.967222</td>\n",
       "      <td>2021-06-13T16:17:31.694</td>\n",
       "      <td>None</td>\n",
       "      <td>2024-02-12T13:48:23.967222</td>\n",
       "    </tr>\n",
       "    <tr>\n",
       "      <th>15</th>\n",
       "      <td>16</td>\n",
       "      <td>37</td>\n",
       "      <td>Europe</td>\n",
       "      <td>Champions League</td>\n",
       "      <td>male</td>\n",
       "      <td>False</td>\n",
       "      <td>False</td>\n",
       "      <td>2004/2005</td>\n",
       "      <td>2024-02-12T13:09:19.665986</td>\n",
       "      <td>2021-06-13T16:17:31.694</td>\n",
       "      <td>None</td>\n",
       "      <td>2024-02-12T13:09:19.665986</td>\n",
       "    </tr>\n",
       "    <tr>\n",
       "      <th>16</th>\n",
       "      <td>16</td>\n",
       "      <td>44</td>\n",
       "      <td>Europe</td>\n",
       "      <td>Champions League</td>\n",
       "      <td>male</td>\n",
       "      <td>False</td>\n",
       "      <td>False</td>\n",
       "      <td>2003/2004</td>\n",
       "      <td>2024-02-12T13:51:22.366380</td>\n",
       "      <td>2021-06-13T16:17:31.694</td>\n",
       "      <td>None</td>\n",
       "      <td>2024-02-12T13:51:22.366380</td>\n",
       "    </tr>\n",
       "    <tr>\n",
       "      <th>17</th>\n",
       "      <td>16</td>\n",
       "      <td>76</td>\n",
       "      <td>Europe</td>\n",
       "      <td>Champions League</td>\n",
       "      <td>male</td>\n",
       "      <td>False</td>\n",
       "      <td>False</td>\n",
       "      <td>1999/2000</td>\n",
       "      <td>2020-07-29T05:00</td>\n",
       "      <td>2021-06-13T16:17:31.694</td>\n",
       "      <td>None</td>\n",
       "      <td>2020-07-29T05:00</td>\n",
       "    </tr>\n",
       "    <tr>\n",
       "      <th>18</th>\n",
       "      <td>16</td>\n",
       "      <td>277</td>\n",
       "      <td>Europe</td>\n",
       "      <td>Champions League</td>\n",
       "      <td>male</td>\n",
       "      <td>False</td>\n",
       "      <td>False</td>\n",
       "      <td>1972/1973</td>\n",
       "      <td>2024-02-13T14:25:16.532771</td>\n",
       "      <td>None</td>\n",
       "      <td>None</td>\n",
       "      <td>2024-02-13T14:25:16.532771</td>\n",
       "    </tr>\n",
       "    <tr>\n",
       "      <th>19</th>\n",
       "      <td>16</td>\n",
       "      <td>71</td>\n",
       "      <td>Europe</td>\n",
       "      <td>Champions League</td>\n",
       "      <td>male</td>\n",
       "      <td>False</td>\n",
       "      <td>False</td>\n",
       "      <td>1971/1972</td>\n",
       "      <td>2024-02-12T14:25:01.735880</td>\n",
       "      <td>2021-06-13T16:17:31.694</td>\n",
       "      <td>None</td>\n",
       "      <td>2024-02-12T14:25:01.735880</td>\n",
       "    </tr>\n",
       "    <tr>\n",
       "      <th>20</th>\n",
       "      <td>16</td>\n",
       "      <td>276</td>\n",
       "      <td>Europe</td>\n",
       "      <td>Champions League</td>\n",
       "      <td>male</td>\n",
       "      <td>False</td>\n",
       "      <td>False</td>\n",
       "      <td>1970/1971</td>\n",
       "      <td>2024-02-13T14:24:12.213582</td>\n",
       "      <td>None</td>\n",
       "      <td>None</td>\n",
       "      <td>2024-02-13T14:24:12.213582</td>\n",
       "    </tr>\n",
       "  </tbody>\n",
       "</table>\n",
       "</div>"
      ],
      "text/plain": [
       "    competition_id  season_id country_name  competition_name  \\\n",
       "3               16          4       Europe  Champions League   \n",
       "4               16          1       Europe  Champions League   \n",
       "5               16          2       Europe  Champions League   \n",
       "6               16         27       Europe  Champions League   \n",
       "7               16         26       Europe  Champions League   \n",
       "8               16         25       Europe  Champions League   \n",
       "9               16         24       Europe  Champions League   \n",
       "10              16         23       Europe  Champions League   \n",
       "11              16         22       Europe  Champions League   \n",
       "12              16         21       Europe  Champions League   \n",
       "13              16         41       Europe  Champions League   \n",
       "14              16         39       Europe  Champions League   \n",
       "15              16         37       Europe  Champions League   \n",
       "16              16         44       Europe  Champions League   \n",
       "17              16         76       Europe  Champions League   \n",
       "18              16        277       Europe  Champions League   \n",
       "19              16         71       Europe  Champions League   \n",
       "20              16        276       Europe  Champions League   \n",
       "\n",
       "   competition_gender  competition_youth  competition_international  \\\n",
       "3                male              False                      False   \n",
       "4                male              False                      False   \n",
       "5                male              False                      False   \n",
       "6                male              False                      False   \n",
       "7                male              False                      False   \n",
       "8                male              False                      False   \n",
       "9                male              False                      False   \n",
       "10               male              False                      False   \n",
       "11               male              False                      False   \n",
       "12               male              False                      False   \n",
       "13               male              False                      False   \n",
       "14               male              False                      False   \n",
       "15               male              False                      False   \n",
       "16               male              False                      False   \n",
       "17               male              False                      False   \n",
       "18               male              False                      False   \n",
       "19               male              False                      False   \n",
       "20               male              False                      False   \n",
       "\n",
       "   season_name               match_updated        match_updated_360  \\\n",
       "3    2018/2019  2024-06-12T07:44:38.559714  2021-06-13T16:17:31.694   \n",
       "4    2017/2018  2024-02-13T02:35:28.134882  2021-06-13T16:17:31.694   \n",
       "5    2016/2017  2024-02-13T02:37:32.205154  2021-06-13T16:17:31.694   \n",
       "6    2015/2016  2024-06-12T07:45:38.786894  2021-06-13T16:17:31.694   \n",
       "7    2014/2015  2024-02-12T12:49:54.914228  2021-06-13T16:17:31.694   \n",
       "8    2013/2014  2024-02-12T12:48:48.479157  2021-06-13T16:17:31.694   \n",
       "9    2012/2013  2024-02-12T12:47:34.340413  2021-06-13T16:17:31.694   \n",
       "10   2011/2012  2024-02-13T02:36:35.698340  2021-06-13T16:17:31.694   \n",
       "11   2010/2011  2024-02-12T12:53:03.944320  2021-06-13T16:17:31.694   \n",
       "12   2009/2010  2024-02-12T12:49:25.017694  2021-06-13T16:17:31.694   \n",
       "13   2008/2009  2024-02-13T07:02:54.657056  2021-06-13T16:17:31.694   \n",
       "14   2006/2007  2024-02-12T13:48:23.967222  2021-06-13T16:17:31.694   \n",
       "15   2004/2005  2024-02-12T13:09:19.665986  2021-06-13T16:17:31.694   \n",
       "16   2003/2004  2024-02-12T13:51:22.366380  2021-06-13T16:17:31.694   \n",
       "17   1999/2000            2020-07-29T05:00  2021-06-13T16:17:31.694   \n",
       "18   1972/1973  2024-02-13T14:25:16.532771                     None   \n",
       "19   1971/1972  2024-02-12T14:25:01.735880  2021-06-13T16:17:31.694   \n",
       "20   1970/1971  2024-02-13T14:24:12.213582                     None   \n",
       "\n",
       "   match_available_360             match_available  \n",
       "3                 None  2024-06-12T07:44:38.559714  \n",
       "4                 None  2024-02-13T02:35:28.134882  \n",
       "5                 None  2024-02-13T02:37:32.205154  \n",
       "6                 None  2024-06-12T07:45:38.786894  \n",
       "7                 None  2024-02-12T12:49:54.914228  \n",
       "8                 None  2024-02-12T12:48:48.479157  \n",
       "9                 None  2024-02-12T12:47:34.340413  \n",
       "10                None  2024-02-13T02:36:35.698340  \n",
       "11                None  2024-02-12T12:53:03.944320  \n",
       "12                None  2024-02-12T12:49:25.017694  \n",
       "13                None  2024-02-13T07:02:54.657056  \n",
       "14                None  2024-02-12T13:48:23.967222  \n",
       "15                None  2024-02-12T13:09:19.665986  \n",
       "16                None  2024-02-12T13:51:22.366380  \n",
       "17                None            2020-07-29T05:00  \n",
       "18                None  2024-02-13T14:25:16.532771  \n",
       "19                None  2024-02-12T14:25:01.735880  \n",
       "20                None  2024-02-13T14:24:12.213582  "
      ]
     },
     "execution_count": 70,
     "metadata": {},
     "output_type": "execute_result"
    }
   ],
   "source": [
    "competicoes.loc[df['competition_name'] == 'Champions League', :]"
   ]
  },
  {
   "cell_type": "code",
   "execution_count": 62,
   "metadata": {},
   "outputs": [
    {
     "data": {
      "text/html": [
       "<div>\n",
       "<style scoped>\n",
       "    .dataframe tbody tr th:only-of-type {\n",
       "        vertical-align: middle;\n",
       "    }\n",
       "\n",
       "    .dataframe tbody tr th {\n",
       "        vertical-align: top;\n",
       "    }\n",
       "\n",
       "    .dataframe thead th {\n",
       "        text-align: right;\n",
       "    }\n",
       "</style>\n",
       "<table border=\"1\" class=\"dataframe\">\n",
       "  <thead>\n",
       "    <tr style=\"text-align: right;\">\n",
       "      <th></th>\n",
       "      <th>match_id</th>\n",
       "      <th>match_date</th>\n",
       "      <th>kick_off</th>\n",
       "      <th>competition</th>\n",
       "      <th>season</th>\n",
       "      <th>home_team</th>\n",
       "      <th>away_team</th>\n",
       "      <th>home_score</th>\n",
       "      <th>away_score</th>\n",
       "      <th>match_status</th>\n",
       "      <th>...</th>\n",
       "      <th>last_updated_360</th>\n",
       "      <th>match_week</th>\n",
       "      <th>competition_stage</th>\n",
       "      <th>stadium</th>\n",
       "      <th>referee</th>\n",
       "      <th>home_managers</th>\n",
       "      <th>away_managers</th>\n",
       "      <th>data_version</th>\n",
       "      <th>shot_fidelity_version</th>\n",
       "      <th>xy_fidelity_version</th>\n",
       "    </tr>\n",
       "  </thead>\n",
       "  <tbody>\n",
       "    <tr>\n",
       "      <th>0</th>\n",
       "      <td>22912</td>\n",
       "      <td>2019-06-01</td>\n",
       "      <td>21:00:00.000</td>\n",
       "      <td>Europe - Champions League</td>\n",
       "      <td>2018/2019</td>\n",
       "      <td>Tottenham Hotspur</td>\n",
       "      <td>Liverpool</td>\n",
       "      <td>0</td>\n",
       "      <td>2</td>\n",
       "      <td>available</td>\n",
       "      <td>...</td>\n",
       "      <td>2021-06-13T16:17:31.694</td>\n",
       "      <td>13</td>\n",
       "      <td>Final</td>\n",
       "      <td>\\tEstádio Cívitas Metropolitano</td>\n",
       "      <td>Damir Skomina</td>\n",
       "      <td>Mauricio Roberto Pochettino Trossero</td>\n",
       "      <td>Jürgen Klopp</td>\n",
       "      <td>1.1.0</td>\n",
       "      <td>2</td>\n",
       "      <td>2</td>\n",
       "    </tr>\n",
       "  </tbody>\n",
       "</table>\n",
       "<p>1 rows × 22 columns</p>\n",
       "</div>"
      ],
      "text/plain": [
       "   match_id  match_date      kick_off                competition     season  \\\n",
       "0     22912  2019-06-01  21:00:00.000  Europe - Champions League  2018/2019   \n",
       "\n",
       "           home_team  away_team  home_score  away_score match_status  ...  \\\n",
       "0  Tottenham Hotspur  Liverpool           0           2    available  ...   \n",
       "\n",
       "          last_updated_360 match_week competition_stage  \\\n",
       "0  2021-06-13T16:17:31.694         13             Final   \n",
       "\n",
       "                           stadium        referee  \\\n",
       "0  \\tEstádio Cívitas Metropolitano  Damir Skomina   \n",
       "\n",
       "                          home_managers away_managers data_version  \\\n",
       "0  Mauricio Roberto Pochettino Trossero  Jürgen Klopp        1.1.0   \n",
       "\n",
       "  shot_fidelity_version xy_fidelity_version  \n",
       "0                     2                   2  \n",
       "\n",
       "[1 rows x 22 columns]"
      ]
     },
     "execution_count": 62,
     "metadata": {},
     "output_type": "execute_result"
    }
   ],
   "source": [
    "partidas.head()"
   ]
  },
  {
   "cell_type": "markdown",
   "metadata": {},
   "source": [
    "|**Dicionario de dados: Partidas**||\n",
    "|-------------------------|---------------------------------------------------------------------------|\n",
    "| **Coluna** | **Descrição** |                                                               \n",
    "| match_id                | Identificador único da partida.                                            |\n",
    "| match_date              | Data em que a partida foi realizada.                                       |\n",
    "| kick_off                | Horário de início da partida.                                              |\n",
    "| competition             | Nome da competição em que a partida está inserida.                         |\n",
    "| season                  | Temporada da competição (ex: 2023/2024).                                   |\n",
    "| home_team               | Nome do time da casa (mandante).                                           |\n",
    "| away_team               | Nome do time visitante.                                                    |\n",
    "| home_score              | Pontuação do time da casa ao final da partida.                             |\n",
    "| away_score              | Pontuação do time visitante ao final da partida.                           |\n",
    "| match_status            | Status da partida (ex: concluída, em andamento).                           |\n",
    "| match_status_360        | Status da partida em relação aos dados no formato 360.                     |\n",
    "| last_updated            | Data e hora da última atualização dos dados da partida.                    |\n",
    "| last_updated_360        | Data e hora da última atualização dos dados no formato 360.                |\n",
    "| match_week              | Número da semana ou rodada da competição.                                  |\n",
    "| competition_stage       | Fase da competição (ex: fase de grupos, oitavas de final).                 |\n",
    "| stadium                 | Nome do estádio onde a partida foi realizada.                              |\n",
    "| referee                 | Nome do árbitro da partida.                                                |\n",
    "| home_managers           | Nome(s) do(s) treinador(es) do time da casa.                               |\n",
    "| away_managers           | Nome(s) do(s) treinador(es) do time visitante.                             |\n",
    "| data_version            | Versão dos dados utilizados para a partida.                                |\n",
    "| shot_fidelity_version   | Versão dos dados de precisão dos chutes.                                   |\n",
    "| xy_fidelity_version     | Versão dos dados de coordenadas XY da partida.                             |\n"
   ]
  },
  {
   "cell_type": "code",
   "execution_count": 47,
   "metadata": {},
   "outputs": [
    {
     "data": {
      "text/plain": [
       "(74, 12)"
      ]
     },
     "execution_count": 47,
     "metadata": {},
     "output_type": "execute_result"
    }
   ],
   "source": [
    "competicoes.shape"
   ]
  },
  {
   "cell_type": "code",
   "execution_count": 48,
   "metadata": {},
   "outputs": [
    {
     "data": {
      "text/plain": [
       "Index(['competition_id', 'season_id', 'country_name', 'competition_name',\n",
       "       'competition_gender', 'competition_youth', 'competition_international',\n",
       "       'season_name', 'match_updated', 'match_updated_360',\n",
       "       'match_available_360', 'match_available'],\n",
       "      dtype='object')"
      ]
     },
     "execution_count": 48,
     "metadata": {},
     "output_type": "execute_result"
    }
   ],
   "source": [
    "competicoes.columns"
   ]
  },
  {
   "cell_type": "code",
   "execution_count": 49,
   "metadata": {},
   "outputs": [
    {
     "data": {
      "text/plain": [
       "array(['1. Bundesliga', 'African Cup of Nations', 'Champions League',\n",
       "       'Copa America', 'Copa del Rey', \"FA Women's Super League\",\n",
       "       'FIFA U20 World Cup', 'FIFA World Cup', 'Indian Super league',\n",
       "       'La Liga', 'Liga Profesional', 'Ligue 1', 'Major League Soccer',\n",
       "       'North American League', 'NWSL', 'Premier League', 'Serie A',\n",
       "       'UEFA Euro', 'UEFA Europa League', \"UEFA Women's Euro\",\n",
       "       \"Women's World Cup\"], dtype=object)"
      ]
     },
     "execution_count": 49,
     "metadata": {},
     "output_type": "execute_result"
    }
   ],
   "source": [
    "competicoes.competition_name.unique()"
   ]
  },
  {
   "cell_type": "code",
   "execution_count": 52,
   "metadata": {},
   "outputs": [
    {
     "data": {
      "text/plain": [
       "array([   9, 1267,   16,  223,   87,   37, 1470,   43, 1238,   11,   81,\n",
       "          7,   44,  116,   49,    2,   12,   55,   35,   53,   72])"
      ]
     },
     "execution_count": 52,
     "metadata": {},
     "output_type": "execute_result"
    }
   ],
   "source": [
    "#==> Id da competicao\n",
    "competicoes['competition_id'].unique()"
   ]
  },
  {
   "cell_type": "code",
   "execution_count": 54,
   "metadata": {},
   "outputs": [
    {
     "data": {
      "text/plain": [
       "array([281,  27, 107,   4,   1,   2,  26,  25,  24,  23,  22,  21,  41,\n",
       "        39,  37,  44,  76, 277,  71, 276, 282,  84, 268, 279,  90,  42,\n",
       "       274, 106,   3,  55,  54,  51, 272, 270, 269, 108,  40,  38, 278,\n",
       "        48, 275, 235,  68,  86,  43,  75,  30])"
      ]
     },
     "execution_count": 54,
     "metadata": {},
     "output_type": "execute_result"
    }
   ],
   "source": [
    "#==> Id da temporada\n",
    "competicoes['season_id'].unique()"
   ]
  },
  {
   "cell_type": "code",
   "execution_count": 56,
   "metadata": {},
   "outputs": [
    {
     "data": {
      "text/plain": [
       "47"
      ]
     },
     "execution_count": 56,
     "metadata": {},
     "output_type": "execute_result"
    }
   ],
   "source": [
    "#===> Quantidade de temoporadas\n",
    "len(competicoes['season_name'].unique())"
   ]
  },
  {
   "cell_type": "code",
   "execution_count": 39,
   "metadata": {},
   "outputs": [
    {
     "data": {
      "text/html": [
       "<div>\n",
       "<style scoped>\n",
       "    .dataframe tbody tr th:only-of-type {\n",
       "        vertical-align: middle;\n",
       "    }\n",
       "\n",
       "    .dataframe tbody tr th {\n",
       "        vertical-align: top;\n",
       "    }\n",
       "\n",
       "    .dataframe thead th {\n",
       "        text-align: right;\n",
       "    }\n",
       "</style>\n",
       "<table border=\"1\" class=\"dataframe\">\n",
       "  <thead>\n",
       "    <tr style=\"text-align: right;\">\n",
       "      <th></th>\n",
       "      <th>competition_id</th>\n",
       "      <th>season_id</th>\n",
       "      <th>country_name</th>\n",
       "      <th>competition_name</th>\n",
       "      <th>competition_gender</th>\n",
       "      <th>competition_youth</th>\n",
       "      <th>competition_international</th>\n",
       "      <th>season_name</th>\n",
       "      <th>match_updated</th>\n",
       "      <th>match_updated_360</th>\n",
       "      <th>match_available_360</th>\n",
       "      <th>match_available</th>\n",
       "    </tr>\n",
       "  </thead>\n",
       "  <tbody>\n",
       "    <tr>\n",
       "      <th>3</th>\n",
       "      <td>16</td>\n",
       "      <td>4</td>\n",
       "      <td>Europe</td>\n",
       "      <td>Champions League</td>\n",
       "      <td>male</td>\n",
       "      <td>False</td>\n",
       "      <td>False</td>\n",
       "      <td>2018/2019</td>\n",
       "      <td>2024-06-12T07:44:38.559714</td>\n",
       "      <td>2021-06-13T16:17:31.694</td>\n",
       "      <td>None</td>\n",
       "      <td>2024-06-12T07:44:38.559714</td>\n",
       "    </tr>\n",
       "    <tr>\n",
       "      <th>4</th>\n",
       "      <td>16</td>\n",
       "      <td>1</td>\n",
       "      <td>Europe</td>\n",
       "      <td>Champions League</td>\n",
       "      <td>male</td>\n",
       "      <td>False</td>\n",
       "      <td>False</td>\n",
       "      <td>2017/2018</td>\n",
       "      <td>2024-02-13T02:35:28.134882</td>\n",
       "      <td>2021-06-13T16:17:31.694</td>\n",
       "      <td>None</td>\n",
       "      <td>2024-02-13T02:35:28.134882</td>\n",
       "    </tr>\n",
       "    <tr>\n",
       "      <th>5</th>\n",
       "      <td>16</td>\n",
       "      <td>2</td>\n",
       "      <td>Europe</td>\n",
       "      <td>Champions League</td>\n",
       "      <td>male</td>\n",
       "      <td>False</td>\n",
       "      <td>False</td>\n",
       "      <td>2016/2017</td>\n",
       "      <td>2024-02-13T02:37:32.205154</td>\n",
       "      <td>2021-06-13T16:17:31.694</td>\n",
       "      <td>None</td>\n",
       "      <td>2024-02-13T02:37:32.205154</td>\n",
       "    </tr>\n",
       "    <tr>\n",
       "      <th>6</th>\n",
       "      <td>16</td>\n",
       "      <td>27</td>\n",
       "      <td>Europe</td>\n",
       "      <td>Champions League</td>\n",
       "      <td>male</td>\n",
       "      <td>False</td>\n",
       "      <td>False</td>\n",
       "      <td>2015/2016</td>\n",
       "      <td>2024-06-12T07:45:38.786894</td>\n",
       "      <td>2021-06-13T16:17:31.694</td>\n",
       "      <td>None</td>\n",
       "      <td>2024-06-12T07:45:38.786894</td>\n",
       "    </tr>\n",
       "    <tr>\n",
       "      <th>7</th>\n",
       "      <td>16</td>\n",
       "      <td>26</td>\n",
       "      <td>Europe</td>\n",
       "      <td>Champions League</td>\n",
       "      <td>male</td>\n",
       "      <td>False</td>\n",
       "      <td>False</td>\n",
       "      <td>2014/2015</td>\n",
       "      <td>2024-02-12T12:49:54.914228</td>\n",
       "      <td>2021-06-13T16:17:31.694</td>\n",
       "      <td>None</td>\n",
       "      <td>2024-02-12T12:49:54.914228</td>\n",
       "    </tr>\n",
       "  </tbody>\n",
       "</table>\n",
       "</div>"
      ],
      "text/plain": [
       "   competition_id  season_id country_name  competition_name  \\\n",
       "3              16          4       Europe  Champions League   \n",
       "4              16          1       Europe  Champions League   \n",
       "5              16          2       Europe  Champions League   \n",
       "6              16         27       Europe  Champions League   \n",
       "7              16         26       Europe  Champions League   \n",
       "\n",
       "  competition_gender  competition_youth  competition_international  \\\n",
       "3               male              False                      False   \n",
       "4               male              False                      False   \n",
       "5               male              False                      False   \n",
       "6               male              False                      False   \n",
       "7               male              False                      False   \n",
       "\n",
       "  season_name               match_updated        match_updated_360  \\\n",
       "3   2018/2019  2024-06-12T07:44:38.559714  2021-06-13T16:17:31.694   \n",
       "4   2017/2018  2024-02-13T02:35:28.134882  2021-06-13T16:17:31.694   \n",
       "5   2016/2017  2024-02-13T02:37:32.205154  2021-06-13T16:17:31.694   \n",
       "6   2015/2016  2024-06-12T07:45:38.786894  2021-06-13T16:17:31.694   \n",
       "7   2014/2015  2024-02-12T12:49:54.914228  2021-06-13T16:17:31.694   \n",
       "\n",
       "  match_available_360             match_available  \n",
       "3                None  2024-06-12T07:44:38.559714  \n",
       "4                None  2024-02-13T02:35:28.134882  \n",
       "5                None  2024-02-13T02:37:32.205154  \n",
       "6                None  2024-06-12T07:45:38.786894  \n",
       "7                None  2024-02-12T12:49:54.914228  "
      ]
     },
     "execution_count": 39,
     "metadata": {},
     "output_type": "execute_result"
    }
   ],
   "source": []
  },
  {
   "cell_type": "code",
   "execution_count": 41,
   "metadata": {},
   "outputs": [
    {
     "name": "stderr",
     "output_type": "stream",
     "text": [
      "/home/maik/_repos/ATDR1/.venv/lib/python3.12/site-packages/statsbombpy/api_client.py:21: NoAuthWarning: credentials were not supplied. open data access only\n",
      "  warnings.warn(\n"
     ]
    },
    {
     "data": {
      "text/html": [
       "<div>\n",
       "<style scoped>\n",
       "    .dataframe tbody tr th:only-of-type {\n",
       "        vertical-align: middle;\n",
       "    }\n",
       "\n",
       "    .dataframe tbody tr th {\n",
       "        vertical-align: top;\n",
       "    }\n",
       "\n",
       "    .dataframe thead th {\n",
       "        text-align: right;\n",
       "    }\n",
       "</style>\n",
       "<table border=\"1\" class=\"dataframe\">\n",
       "  <thead>\n",
       "    <tr style=\"text-align: right;\">\n",
       "      <th></th>\n",
       "      <th>match_id</th>\n",
       "      <th>match_date</th>\n",
       "      <th>kick_off</th>\n",
       "      <th>competition</th>\n",
       "      <th>season</th>\n",
       "      <th>home_team</th>\n",
       "      <th>away_team</th>\n",
       "      <th>home_score</th>\n",
       "      <th>away_score</th>\n",
       "      <th>match_status</th>\n",
       "      <th>...</th>\n",
       "      <th>last_updated_360</th>\n",
       "      <th>match_week</th>\n",
       "      <th>competition_stage</th>\n",
       "      <th>stadium</th>\n",
       "      <th>referee</th>\n",
       "      <th>home_managers</th>\n",
       "      <th>away_managers</th>\n",
       "      <th>data_version</th>\n",
       "      <th>shot_fidelity_version</th>\n",
       "      <th>xy_fidelity_version</th>\n",
       "    </tr>\n",
       "  </thead>\n",
       "  <tbody>\n",
       "    <tr>\n",
       "      <th>0</th>\n",
       "      <td>22912</td>\n",
       "      <td>2019-06-01</td>\n",
       "      <td>21:00:00.000</td>\n",
       "      <td>Europe - Champions League</td>\n",
       "      <td>2018/2019</td>\n",
       "      <td>Tottenham Hotspur</td>\n",
       "      <td>Liverpool</td>\n",
       "      <td>0</td>\n",
       "      <td>2</td>\n",
       "      <td>available</td>\n",
       "      <td>...</td>\n",
       "      <td>2021-06-13T16:17:31.694</td>\n",
       "      <td>13</td>\n",
       "      <td>Final</td>\n",
       "      <td>\\tEstádio Cívitas Metropolitano</td>\n",
       "      <td>Damir Skomina</td>\n",
       "      <td>Mauricio Roberto Pochettino Trossero</td>\n",
       "      <td>Jürgen Klopp</td>\n",
       "      <td>1.1.0</td>\n",
       "      <td>2</td>\n",
       "      <td>2</td>\n",
       "    </tr>\n",
       "  </tbody>\n",
       "</table>\n",
       "<p>1 rows × 22 columns</p>\n",
       "</div>"
      ],
      "text/plain": [
       "   match_id  match_date      kick_off                competition     season  \\\n",
       "0     22912  2019-06-01  21:00:00.000  Europe - Champions League  2018/2019   \n",
       "\n",
       "           home_team  away_team  home_score  away_score match_status  ...  \\\n",
       "0  Tottenham Hotspur  Liverpool           0           2    available  ...   \n",
       "\n",
       "          last_updated_360 match_week competition_stage  \\\n",
       "0  2021-06-13T16:17:31.694         13             Final   \n",
       "\n",
       "                           stadium        referee  \\\n",
       "0  \\tEstádio Cívitas Metropolitano  Damir Skomina   \n",
       "\n",
       "                          home_managers away_managers data_version  \\\n",
       "0  Mauricio Roberto Pochettino Trossero  Jürgen Klopp        1.1.0   \n",
       "\n",
       "  shot_fidelity_version xy_fidelity_version  \n",
       "0                     2                   2  \n",
       "\n",
       "[1 rows x 22 columns]"
      ]
     },
     "execution_count": 41,
     "metadata": {},
     "output_type": "execute_result"
    }
   ],
   "source": []
  },
  {
   "cell_type": "code",
   "execution_count": 42,
   "metadata": {},
   "outputs": [
    {
     "data": {
      "text/plain": [
       "Index(['match_id', 'match_date', 'kick_off', 'competition', 'season',\n",
       "       'home_team', 'away_team', 'home_score', 'away_score', 'match_status',\n",
       "       'match_status_360', 'last_updated', 'last_updated_360', 'match_week',\n",
       "       'competition_stage', 'stadium', 'referee', 'home_managers',\n",
       "       'away_managers', 'data_version', 'shot_fidelity_version',\n",
       "       'xy_fidelity_version'],\n",
       "      dtype='object')"
      ]
     },
     "execution_count": 42,
     "metadata": {},
     "output_type": "execute_result"
    }
   ],
   "source": [
    "partidas.columns"
   ]
  },
  {
   "cell_type": "code",
   "execution_count": null,
   "metadata": {},
   "outputs": [],
   "source": []
  },
  {
   "cell_type": "code",
   "execution_count": null,
   "metadata": {},
   "outputs": [],
   "source": []
  },
  {
   "cell_type": "markdown",
   "metadata": {},
   "source": [
    "## 5. Criar Visualizações de Dados"
   ]
  },
  {
   "cell_type": "markdown",
   "metadata": {},
   "source": [
    "1. Utilize a biblioteca mplsoccer para gerar um mapa de passes e mapa de chutes para uma partida específica.\n",
    "   - Garanta que o gráfico seja interativo, com legendas e informações que ajudem a interpretar os dados.\n",
    "2. Crie visualizações adicionais com Matplotlib e Seaborn para explorar relações entre as estatísticas de uma partida ou jogador (ex: relação entre número de passes e gols).\n",
    "3. Explore novas visualizações com mplsoccer de acordo com a galeria disponível [neste link](https://mplsoccer.readthedocs.io/en/latest/gallery/index.html)."
   ]
  },
  {
   "cell_type": "markdown",
   "metadata": {},
   "source": [
    "## 6. Adicionar Interatividade"
   ]
  },
  {
   "cell_type": "markdown",
   "metadata": {},
   "source": [
    "1. Adicione seletores de jogadores e botões de filtro que permitam ao usuário visualizar apenas eventos relacionados a um jogador específico.\n",
    "2. Inclua botões de download para permitir que o usuário baixe os dados filtrados da partida em formato CSV.\n",
    "3. Use barras de progresso e spinners para informar ao usuário que os dados estão sendo carregados ou processados."
   ]
  },
  {
   "cell_type": "markdown",
   "metadata": {},
   "source": [
    "## 7. Incluir Métricas e Indicadores"
   ]
  },
  {
   "cell_type": "markdown",
   "metadata": {},
   "source": [
    "1. Exiba indicadores numéricos usando a função **`metric()`** do Streamlit para mostrar, por exemplo:\n",
    "   - Total de gols da partida.\n",
    "   - Quantidade de passes bem-sucedidos de um jogador.\n",
    "   - Taxa de conversão de chutes em gol.\n",
    "2. Personalize os indicadores com cores que realcem os valores mais importantes."
   ]
  },
  {
   "cell_type": "markdown",
   "metadata": {},
   "source": [
    "## 8. Criar Formulários Interativos"
   ]
  },
  {
   "cell_type": "markdown",
   "metadata": {},
   "source": [
    "1. Desenvolva formulários simples que permitam ao usuário escolher:\n",
    "   - A quantidade de eventos a serem visualizados.\n",
    "   - O intervalo de tempo de uma partida.\n",
    "   - A comparação entre dois jogadores.\n",
    "2. Utilize elementos como caixas de texto, dropdowns, radio buttons e checkboxes para tornar a interação mais fluida."
   ]
  },
  {
   "cell_type": "markdown",
   "metadata": {},
   "source": [
    "## 9. Implementar Funcionalidades Avançadas"
   ]
  },
  {
   "cell_type": "markdown",
   "metadata": {},
   "source": [
    "1. Utilize o Cache do Streamlit para otimizar o carregamento de dados, especialmente se estiver utilizando bases de dados grandes.\n",
    "2. Armazene o estado da sessão do usuário utilizando **`Session State`**, garantindo que a interação do usuário não seja perdida ao navegar entre páginas."
   ]
  },
  {
   "cell_type": "markdown",
   "metadata": {},
   "source": [
    "## 10. Publicar o Projeto"
   ]
  },
  {
   "cell_type": "markdown",
   "metadata": {},
   "source": [
    "1. Realize o deploy da aplicação utilizando o Streamlit Community Cloud.\n",
    "2. Verifique se o deploy foi bem-sucedido e que todas as funcionalidades estão funcionando conforme esperado.\n",
    "3. Compartilhe o link da aplicação publicada e o repositório no GitHub."
   ]
  }
 ],
 "metadata": {
  "kernelspec": {
   "display_name": "Python 3 (ipykernel)",
   "language": "python",
   "name": "python3"
  },
  "language_info": {
   "codemirror_mode": {
    "name": "ipython",
    "version": 3
   },
   "file_extension": ".py",
   "mimetype": "text/x-python",
   "name": "python",
   "nbconvert_exporter": "python",
   "pygments_lexer": "ipython3",
   "version": "3.12.4"
  }
 },
 "nbformat": 4,
 "nbformat_minor": 4
}
