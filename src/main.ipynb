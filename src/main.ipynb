{
 "cells": [
  {
   "cell_type": "markdown",
   "metadata": {},
   "source": [
    "<p style=\"text-align: center; font-size: 30px; color: navy; font-weight: bold;\">\n",
    "    Assessment - Desenvolvimento Front-End com Python <br>\n",
    "    Maik Júnior dos Santos\n",
    "</p>"
   ]
  },
  {
   "cell_type": "markdown",
   "metadata": {},
   "source": [
    "## 1. Preparar o Ambiente de Desenvolvimento"
   ]
  },
  {
   "cell_type": "markdown",
   "metadata": {},
   "source": [
    "1. Crie um ambiente virtual para seu projeto utilizando uma ferramenta como **`venv`**, **`virtualenv`** ou **`pipenv`**.\n",
    "2. Instale as bibliotecas necessárias (Streamlit, statsbombpy, mplsoccer, matplotlib, entre outras)."
   ]
  },
  {
   "cell_type": "code",
   "execution_count": null,
   "metadata": {},
   "outputs": [],
   "source": [
    "#==> Criando ambiente virtual"
   ]
  },
  {
   "cell_type": "code",
   "execution_count": 9,
   "metadata": {},
   "outputs": [
    {
     "name": "stdout",
     "output_type": "stream",
     "text": [
      ".\n",
      "..\n",
      ".ipynb_checkpoints\n",
      ".venv\n",
      "dataprocessing\n",
      "main.ipynb\n",
      "main.py\n",
      "models\n",
      "services\n",
      "utils\n",
      "visualization\n"
     ]
    }
   ],
   "source": [
    "%%bash\n",
    "# cd ..\n",
    "# export CONDA_ENVS_PATH=$(pwd)\n",
    "# python3 -m venv .venv\n",
    "ls -a"
   ]
  },
  {
   "cell_type": "code",
   "execution_count": null,
   "metadata": {
    "scrolled": true
   },
   "outputs": [],
   "source": [
    "# %%bash\n",
    "# pip install statsbombpy mplsoccer"
   ]
  },
  {
   "cell_type": "code",
   "execution_count": null,
   "metadata": {},
   "outputs": [],
   "source": [
    "# %%bash\n",
    "# cd ..\n",
    "# source .venv/bin/activate"
   ]
  },
  {
   "cell_type": "markdown",
   "metadata": {},
   "source": [
    "## 2. Estruturar o Projeto"
   ]
  },
  {
   "cell_type": "markdown",
   "metadata": {},
   "source": [
    "1. Crie um repositório no GitHub para hospedar o código do seu projeto.\n",
    "2. Garanta que o repositório contenha um arquivo **`requirements.txt`** com as dependências necessárias para rodar o projeto.\n",
    "3. Organize o código de forma clara, criando funções separadas para:\n",
    "   - Carregar os dados.\n",
    "   - Gerar as visualizações.\n",
    "   - Construir a interface do dashboard."
   ]
  },
  {
   "cell_type": "code",
   "execution_count": null,
   "metadata": {},
   "outputs": [],
   "source": [
    "%%bash\n",
    "cd ..\n",
    "git init\n",
    "sleep 2\n",
    "git add .\n",
    "sleep 2\n",
    "git branch -M main\n",
    "sleep 2\n",
    "git remote add origin git@github.com:maik-junior/ATDR1.git\n",
    "sleep 2\n",
    "git push -u origin main\n",
    "sleep 2\n",
    "git commit -m \"projeto sincronizado\"\n"
   ]
  },
  {
   "cell_type": "code",
   "execution_count": 11,
   "metadata": {},
   "outputs": [
    {
     "name": "stdout",
     "output_type": "stream",
     "text": [
      "\u001b[01;34m.\u001b[0m\n",
      "├── \u001b[01;34mdataprocessing\u001b[0m\n",
      "├── main.ipynb\n",
      "├── main.py\n",
      "├── \u001b[01;34mmodels\u001b[0m\n",
      "├── \u001b[01;34mservices\u001b[0m\n",
      "│   └── __init__.py\n",
      "├── \u001b[01;34mutils\u001b[0m\n",
      "└── \u001b[01;34mvisualization\u001b[0m\n",
      "    └── __init__.py\n",
      "\n",
      "5 directories, 4 files\n"
     ]
    }
   ],
   "source": [
    "%%bash \n",
    "tree"
   ]
  },
  {
   "cell_type": "code",
   "execution_count": 13,
   "metadata": {},
   "outputs": [
    {
     "name": "stdout",
     "output_type": "stream",
     "text": [
      ".\n",
      "..\n",
      ".gitignore\n",
      ".ipynb_checkpoints\n",
      ".venv\n",
      "README.md\n",
      "config\n",
      "file\n",
      "python_version.txt\n",
      "requirements.txt\n",
      "src\n"
     ]
    }
   ],
   "source": [
    "%%bash\n",
    "cd ..\n",
    "ls -a"
   ]
  },
  {
   "cell_type": "code",
   "execution_count": null,
   "metadata": {},
   "outputs": [],
   "source": []
  },
  {
   "cell_type": "markdown",
   "metadata": {},
   "source": [
    "## 3. Definir a Estrutura do Dashboard"
   ]
  },
  {
   "cell_type": "markdown",
   "metadata": {},
   "source": [
    "1. Desenvolva uma interface interativa em Streamlit que permita ao usuário selecionar:\n",
    "   - Um campeonato específico.\n",
    "   - Uma temporada (ano).\n",
    "   - Uma partida ou jogador para análise.\n",
    "2. Organize o layout do dashboard em colunas, utilizando **`columns`**, **`sidebars`**, **`containers`** e **`tabs`** para melhorar a usabilidade."
   ]
  },
  {
   "cell_type": "markdown",
   "metadata": {},
   "source": [
    "## 4. Obter Dados e Exibir Informações Básicas"
   ]
  },
  {
   "cell_type": "markdown",
   "metadata": {},
   "source": [
    "1. Use a biblioteca StatsBombPy para carregar dados de competições, temporadas, partidas e jogadores.\n",
    "2. Mostre, em uma página do dashboard, as seguintes informações:\n",
    "   - Nome da competição, temporada e partida selecionada.\n",
    "   - Estatísticas básicas da partida (gols, chutes, passes, etc.).\n",
    "   - Um DataFrame exibindo os eventos da partida, como passes, finalizações e desarmes."
   ]
  },
  {
   "cell_type": "markdown",
   "metadata": {},
   "source": [
    "## 5. Criar Visualizações de Dados"
   ]
  },
  {
   "cell_type": "markdown",
   "metadata": {},
   "source": [
    "1. Utilize a biblioteca mplsoccer para gerar um mapa de passes e mapa de chutes para uma partida específica.\n",
    "   - Garanta que o gráfico seja interativo, com legendas e informações que ajudem a interpretar os dados.\n",
    "2. Crie visualizações adicionais com Matplotlib e Seaborn para explorar relações entre as estatísticas de uma partida ou jogador (ex: relação entre número de passes e gols).\n",
    "3. Explore novas visualizações com mplsoccer de acordo com a galeria disponível [neste link](https://mplsoccer.readthedocs.io/en/latest/gallery/index.html)."
   ]
  },
  {
   "cell_type": "markdown",
   "metadata": {},
   "source": [
    "## 6. Adicionar Interatividade"
   ]
  },
  {
   "cell_type": "markdown",
   "metadata": {},
   "source": [
    "1. Adicione seletores de jogadores e botões de filtro que permitam ao usuário visualizar apenas eventos relacionados a um jogador específico.\n",
    "2. Inclua botões de download para permitir que o usuário baixe os dados filtrados da partida em formato CSV.\n",
    "3. Use barras de progresso e spinners para informar ao usuário que os dados estão sendo carregados ou processados."
   ]
  },
  {
   "cell_type": "markdown",
   "metadata": {},
   "source": [
    "## 7. Incluir Métricas e Indicadores"
   ]
  },
  {
   "cell_type": "markdown",
   "metadata": {},
   "source": [
    "1. Exiba indicadores numéricos usando a função **`metric()`** do Streamlit para mostrar, por exemplo:\n",
    "   - Total de gols da partida.\n",
    "   - Quantidade de passes bem-sucedidos de um jogador.\n",
    "   - Taxa de conversão de chutes em gol.\n",
    "2. Personalize os indicadores com cores que realcem os valores mais importantes."
   ]
  },
  {
   "cell_type": "markdown",
   "metadata": {},
   "source": [
    "## 8. Criar Formulários Interativos"
   ]
  },
  {
   "cell_type": "markdown",
   "metadata": {},
   "source": [
    "1. Desenvolva formulários simples que permitam ao usuário escolher:\n",
    "   - A quantidade de eventos a serem visualizados.\n",
    "   - O intervalo de tempo de uma partida.\n",
    "   - A comparação entre dois jogadores.\n",
    "2. Utilize elementos como caixas de texto, dropdowns, radio buttons e checkboxes para tornar a interação mais fluida."
   ]
  },
  {
   "cell_type": "markdown",
   "metadata": {},
   "source": [
    "## 9. Implementar Funcionalidades Avançadas"
   ]
  },
  {
   "cell_type": "markdown",
   "metadata": {},
   "source": [
    "1. Utilize o Cache do Streamlit para otimizar o carregamento de dados, especialmente se estiver utilizando bases de dados grandes.\n",
    "2. Armazene o estado da sessão do usuário utilizando **`Session State`**, garantindo que a interação do usuário não seja perdida ao navegar entre páginas."
   ]
  },
  {
   "cell_type": "markdown",
   "metadata": {},
   "source": [
    "## 10. Publicar o Projeto"
   ]
  },
  {
   "cell_type": "markdown",
   "metadata": {},
   "source": [
    "1. Realize o deploy da aplicação utilizando o Streamlit Community Cloud.\n",
    "2. Verifique se o deploy foi bem-sucedido e que todas as funcionalidades estão funcionando conforme esperado.\n",
    "3. Compartilhe o link da aplicação publicada e o repositório no GitHub."
   ]
  }
 ],
 "metadata": {
  "kernelspec": {
   "display_name": "Python 3 (ipykernel)",
   "language": "python",
   "name": "python3"
  },
  "language_info": {
   "codemirror_mode": {
    "name": "ipython",
    "version": 3
   },
   "file_extension": ".py",
   "mimetype": "text/x-python",
   "name": "python",
   "nbconvert_exporter": "python",
   "pygments_lexer": "ipython3",
   "version": "3.12.2"
  }
 },
 "nbformat": 4,
 "nbformat_minor": 4
}
