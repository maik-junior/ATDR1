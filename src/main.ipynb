{
 "cells": [
  {
   "cell_type": "markdown",
   "metadata": {},
   "source": [
    "<p style=\"text-align: center; font-size: 30px; color: navy; font-weight: bold;\">\n",
    "    Assessment - Desenvolvimento Front-End com Python <br>\n",
    "    Maik Júnior dos Santos\n",
    "</p>"
   ]
  },
  {
   "cell_type": "markdown",
   "metadata": {},
   "source": [
    "## 1. Preparar o Ambiente de Desenvolvimento"
   ]
  },
  {
   "cell_type": "markdown",
   "metadata": {},
   "source": [
    "1. Crie um ambiente virtual para seu projeto utilizando uma ferramenta como **`venv`**, **`virtualenv`** ou **`pipenv`**.\n",
    "2. Instale as bibliotecas necessárias (Streamlit, statsbombpy, mplsoccer, matplotlib, entre outras)."
   ]
  },
  {
   "cell_type": "code",
   "execution_count": null,
   "metadata": {},
   "outputs": [],
   "source": [
    "#==> Criando ambiente virtual"
   ]
  },
  {
   "cell_type": "code",
   "execution_count": 1,
   "metadata": {},
   "outputs": [
    {
     "name": "stdout",
     "output_type": "stream",
     "text": [
      ".\n",
      "..\n",
      ".git\n",
      ".gitignore\n",
      ".ipynb_checkpoints\n",
      ".venv\n",
      "README.md\n",
      "config\n",
      "environment.yml\n",
      "file\n",
      "python_version.txt\n",
      "requirements.txt\n",
      "src\n"
     ]
    }
   ],
   "source": [
    "%%bash\n",
    "cd ..\n",
    "# export CONDA_ENVS_PATH=$(pwd)\n",
    "# python3 -m venv .venv\n",
    "ls -a"
   ]
  },
  {
   "cell_type": "markdown",
   "metadata": {},
   "source": [
    "## 2. Estruturar o Projeto"
   ]
  },
  {
   "cell_type": "markdown",
   "metadata": {},
   "source": [
    "1. Crie um repositório no GitHub para hospedar o código do seu projeto.\n",
    "2. Garanta que o repositório contenha um arquivo **`requirements.txt`** com as dependências necessárias para rodar o projeto.\n",
    "3. Organize o código de forma clara, criando funções separadas para:\n",
    "   - Carregar os dados.\n",
    "   - Gerar as visualizações.\n",
    "   - Construir a interface do dashboard."
   ]
  },
  {
   "cell_type": "code",
   "execution_count": 2,
   "metadata": {},
   "outputs": [
    {
     "name": "stdout",
     "output_type": "stream",
     "text": [
      "\u001b[01;34m.\u001b[0m\n",
      "├── \u001b[01;34m.git\u001b[0m\n",
      "│   ├── COMMIT_EDITMSG\n",
      "│   ├── FETCH_HEAD\n",
      "│   ├── HEAD\n",
      "│   ├── ORIG_HEAD\n",
      "│   ├── \u001b[01;34mbranches\u001b[0m\n",
      "│   ├── config\n",
      "│   ├── description\n",
      "│   ├── \u001b[01;34mhooks\u001b[0m\n",
      "│   ├── index\n",
      "│   ├── \u001b[01;34minfo\u001b[0m\n",
      "│   ├── \u001b[01;34mlogs\u001b[0m\n",
      "│   ├── \u001b[01;34mobjects\u001b[0m\n",
      "│   └── \u001b[01;34mrefs\u001b[0m\n",
      "├── .gitignore\n",
      "├── \u001b[01;34m.ipynb_checkpoints\u001b[0m\n",
      "│   ├── environment-checkpoint.yml\n",
      "│   ├── python_version-checkpoint.txt\n",
      "│   └── requirements-checkpoint.txt\n",
      "├── \u001b[01;34m.venv\u001b[0m\n",
      "│   ├── \u001b[01;34mbin\u001b[0m\n",
      "│   ├── \u001b[01;34metc\u001b[0m\n",
      "│   ├── \u001b[01;34minclude\u001b[0m\n",
      "│   ├── \u001b[01;34mlib\u001b[0m\n",
      "│   ├── \u001b[01;36mlib64\u001b[0m -> \u001b[01;34mlib\u001b[0m\n",
      "│   ├── pyvenv.cfg\n",
      "│   └── \u001b[01;34mshare\u001b[0m\n",
      "├── README.md\n",
      "├── \u001b[01;34mconfig\u001b[0m\n",
      "├── environment.yml\n",
      "├── \u001b[01;34mfile\u001b[0m\n",
      "├── python_version.txt\n",
      "├── requirements.txt\n",
      "└── \u001b[01;34msrc\u001b[0m\n",
      "    ├── \u001b[01;34m.ipynb_checkpoints\u001b[0m\n",
      "    ├── \u001b[01;34mdataprocessing\u001b[0m\n",
      "    ├── main.ipynb\n",
      "    ├── main.py\n",
      "    ├── \u001b[01;34mmodels\u001b[0m\n",
      "    ├── \u001b[01;34mservices\u001b[0m\n",
      "    ├── \u001b[01;34mutils\u001b[0m\n",
      "    └── \u001b[01;34mvisualization\u001b[0m\n",
      "\n",
      "24 directories, 18 files\n"
     ]
    }
   ],
   "source": [
    "%%bash\n",
    "cd ..\n",
    "tree -a -L 2"
   ]
  },
  {
   "cell_type": "markdown",
   "metadata": {},
   "source": [
    "## 3. Definir a Estrutura do Dashboard"
   ]
  },
  {
   "cell_type": "markdown",
   "metadata": {},
   "source": [
    "1. Desenvolva uma interface interativa em Streamlit que permita ao usuário selecionar:\n",
    "   - Um campeonato específico.\n",
    "   - Uma temporada (ano).\n",
    "   - Uma partida ou jogador para análise.\n",
    "2. Organize o layout do dashboard em colunas, utilizando **`columns`**, **`sidebars`**, **`containers`** e **`tabs`** para melhorar a usabilidade."
   ]
  },
  {
   "cell_type": "code",
   "execution_count": null,
   "metadata": {},
   "outputs": [],
   "source": [
    "import streamlit as st\n",
    "from statsbombpy import sb\n",
    "import pandas as pd\n",
    "import time\n",
    "\n",
    "def main():\n",
    "    # Título da aplicação\n",
    "    st.title(\"Fut Mundo\")\n",
    "        \n",
    "    col1, col2, col3 = st.columns(3)\n",
    "    \n",
    "    with col1:\n",
    "        competitions = sb.competitions()\n",
    "        competitions_names = competitions[\"competition_name\"].unique() \n",
    "        competition = st.selectbox('Selecione a competicao', competitions_names)                                  \n",
    "        competition_id = competitions[competitions[\"competition_name\"] == competition][\"competition_id\"].values[0]\n",
    "        \n",
    "    with col2:\n",
    "        seasons = competitions[competitions[\"competition_name\"] == competition][\"season_name\"].unique()           \n",
    "        season_name = st.selectbox('Selecione a temporada', seasons)                                      \n",
    "        season_id = competitions[competitions[\"season_name\"] == season_name][\"season_id\"].values[0]\n",
    "               \n",
    "    with col3:\n",
    "        def get_match_label(matches, match_id):\n",
    "            row = matches[matches[\"match_id\"] == match_id].iloc[0]\n",
    "            return f\"{row['match_date']} - {row['home_team']} vs {row['away_team']}\"\n",
    "    \n",
    "        matches = sb.matches(competition_id = competition_id, season_id = season_id) #Recuperando jogos\n",
    "        st.selectbox('Selecione o jogo', matches[\"match_id\"], format_func=lambda idx: get_match_label(matches, idx)) # Selecionando partida\n",
    "\n",
    "\n",
    "\n",
    "if __name__ == \"__main__\":\n",
    "    main()"
   ]
  },
  {
   "cell_type": "markdown",
   "metadata": {},
   "source": [
    "## 4. Obter Dados e Exibir Informações Básicas"
   ]
  },
  {
   "cell_type": "markdown",
   "metadata": {},
   "source": [
    "1. Use a biblioteca StatsBombPy para carregar dados de competições, temporadas, partidas e jogadores.\n",
    "2. Mostre, em uma página do dashboard, as seguintes informações:\n",
    "   - Nome da competição, temporada e partida selecionada.\n",
    "   - Estatísticas básicas da partida (gols, chutes, passes, etc.).\n",
    "   - Um DataFrame exibindo os eventos da partida, como passes, finalizações e desarmes."
   ]
  },
  {
   "cell_type": "code",
   "execution_count": 6,
   "metadata": {},
   "outputs": [],
   "source": [
    "# %%bash\n",
    "# pip install mplsoccer\n",
    "# pip install statsbombpy"
   ]
  },
  {
   "cell_type": "markdown",
   "metadata": {},
   "source": [
    "## 5. Criar Visualizações de Dados"
   ]
  },
  {
   "cell_type": "markdown",
   "metadata": {},
   "source": [
    "1. Utilize a biblioteca mplsoccer para gerar um mapa de passes e mapa de chutes para uma partida específica.\n",
    "   - Garanta que o gráfico seja interativo, com legendas e informações que ajudem a interpretar os dados.\n",
    "2. Crie visualizações adicionais com Matplotlib e Seaborn para explorar relações entre as estatísticas de uma partida ou jogador (ex: relação entre número de passes e gols).\n",
    "3. Explore novas visualizações com mplsoccer de acordo com a galeria disponível [neste link](https://mplsoccer.readthedocs.io/en/latest/gallery/index.html)."
   ]
  },
  {
   "cell_type": "markdown",
   "metadata": {},
   "source": [
    "## 6. Adicionar Interatividade"
   ]
  },
  {
   "cell_type": "markdown",
   "metadata": {},
   "source": [
    "1. Adicione seletores de jogadores e botões de filtro que permitam ao usuário visualizar apenas eventos relacionados a um jogador específico.\n",
    "2. Inclua botões de download para permitir que o usuário baixe os dados filtrados da partida em formato CSV.\n",
    "3. Use barras de progresso e spinners para informar ao usuário que os dados estão sendo carregados ou processados."
   ]
  },
  {
   "cell_type": "markdown",
   "metadata": {},
   "source": [
    "## 7. Incluir Métricas e Indicadores"
   ]
  },
  {
   "cell_type": "markdown",
   "metadata": {},
   "source": [
    "1. Exiba indicadores numéricos usando a função **`metric()`** do Streamlit para mostrar, por exemplo:\n",
    "   - Total de gols da partida.\n",
    "   - Quantidade de passes bem-sucedidos de um jogador.\n",
    "   - Taxa de conversão de chutes em gol.\n",
    "2. Personalize os indicadores com cores que realcem os valores mais importantes."
   ]
  },
  {
   "cell_type": "markdown",
   "metadata": {},
   "source": [
    "## 8. Criar Formulários Interativos"
   ]
  },
  {
   "cell_type": "markdown",
   "metadata": {},
   "source": [
    "1. Desenvolva formulários simples que permitam ao usuário escolher:\n",
    "   - A quantidade de eventos a serem visualizados.\n",
    "   - O intervalo de tempo de uma partida.\n",
    "   - A comparação entre dois jogadores.\n",
    "2. Utilize elementos como caixas de texto, dropdowns, radio buttons e checkboxes para tornar a interação mais fluida."
   ]
  },
  {
   "cell_type": "markdown",
   "metadata": {},
   "source": [
    "## 9. Implementar Funcionalidades Avançadas"
   ]
  },
  {
   "cell_type": "markdown",
   "metadata": {},
   "source": [
    "1. Utilize o Cache do Streamlit para otimizar o carregamento de dados, especialmente se estiver utilizando bases de dados grandes.\n",
    "2. Armazene o estado da sessão do usuário utilizando **`Session State`**, garantindo que a interação do usuário não seja perdida ao navegar entre páginas."
   ]
  },
  {
   "cell_type": "markdown",
   "metadata": {},
   "source": [
    "## 10. Publicar o Projeto"
   ]
  },
  {
   "cell_type": "markdown",
   "metadata": {},
   "source": [
    "1. Realize o deploy da aplicação utilizando o Streamlit Community Cloud.\n",
    "2. Verifique se o deploy foi bem-sucedido e que todas as funcionalidades estão funcionando conforme esperado.\n",
    "3. Compartilhe o link da aplicação publicada e o repositório no GitHub."
   ]
  }
 ],
 "metadata": {
  "kernelspec": {
   "display_name": "Python 3 (ipykernel)",
   "language": "python",
   "name": "python3"
  },
  "language_info": {
   "codemirror_mode": {
    "name": "ipython",
    "version": 3
   },
   "file_extension": ".py",
   "mimetype": "text/x-python",
   "name": "python",
   "nbconvert_exporter": "python",
   "pygments_lexer": "ipython3",
   "version": "3.12.4"
  }
 },
 "nbformat": 4,
 "nbformat_minor": 4
}
